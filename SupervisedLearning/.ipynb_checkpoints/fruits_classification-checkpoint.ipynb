{
 "cells": [
  {
   "cell_type": "code",
   "execution_count": 1,
   "metadata": {},
   "outputs": [],
   "source": [
    "import numpy as np \n",
    "import matplotlib.pyplot as plt\n",
    "from matplotlib.lines import Line2D\n",
    "import time\n",
    "import pickle\n",
    "\n",
    "import torch\n",
    "import torch.nn.functional as F\n",
    "from torch.autograd import Variable\n",
    "import torch.utils.data\n",
    "from torch import autograd, optim, nn\n",
    "\n",
    "def running_mean(x, N):\n",
    "    cumsum = np.cumsum(np.insert(x, 0, 0))\n",
    "    return (cumsum[N:] - cumsum[:-N]) / float(N)\n"
   ]
  },
  {
   "cell_type": "markdown",
   "metadata": {},
   "source": [
    "#### Make Data"
   ]
  },
  {
   "cell_type": "code",
   "execution_count": 2,
   "metadata": {},
   "outputs": [],
   "source": [
    "num_samples = 1000\n",
    "apple_ids = np.zeros(num_samples)\n",
    "orange_ids = np.ones(num_samples)\n",
    "ids = np.concatenate([apple_ids, orange_ids])\n",
    "\n",
    "apple_name = ['apple']*num_samples\n",
    "orange_name = ['orange']*num_samples\n",
    "names = np.asarray(apple_name+orange_name)\n",
    "\n",
    "apple_weights = np.random.normal(165,11.9, num_samples)\n",
    "orange_weights = np.random.normal(193.8, 73.6, num_samples)\n",
    "weights = np.concatenate([apple_weights, orange_weights])\n",
    "\n",
    "apple_widths = np.random.normal(7.45, 0.345, num_samples)\n",
    "orange_widths = np.random.normal(7.55, 0.81, num_samples)\n",
    "widths = np.concatenate([apple_widths, orange_widths])\n",
    "\n",
    "apple_heights = np.random.normal(7.34,0.29, num_samples)\n",
    "orange_heights = np.random.normal(7.94, 0.769, num_samples)\n",
    "heights = np.concatenate([apple_heights, orange_heights])\n",
    "\n",
    "apple_col_index = np.random.normal(0.78, 0.10, num_samples)\n",
    "#apple_col_index[np.where(apple_col_index > 1)] = 1\n",
    "orange_col_index = np.random.normal(0.77, 0.03, num_samples)\n",
    "col_ind = np.concatenate([apple_col_index, orange_col_index])"
   ]
  },
  {
   "cell_type": "code",
   "execution_count": 3,
   "metadata": {},
   "outputs": [],
   "source": [
    "data = np.array([ids, weights, widths, heights, col_ind]).T"
   ]
  },
  {
   "cell_type": "code",
   "execution_count": 4,
   "metadata": {},
   "outputs": [
    {
     "data": {
      "image/png": "[encoded data removed]",
      "text/plain": [
       "<Figure size 432x288 with 1 Axes>"
      ]
     },
     "metadata": {
      "needs_background": "light"
     },
     "output_type": "display_data"
    }
   ],
   "source": [
    "plt.hist(orange_weights, bins = 100, alpha=0.5, color='orange')\n",
    "plt.hist(apple_weights, bins = 100, alpha=0.5, color='r')\n",
    "plt.title(\"Distribution of Fruit Weights\")\n",
    "plt.xlabel('Weight (g)')\n",
    "plt.show()"
   ]
  },
  {
   "cell_type": "code",
   "execution_count": 19,
   "metadata": {},
   "outputs": [
    {
     "data": {
      "image/png": "[encoded data removed]",
      "text/plain": [
       "<Figure size 432x288 with 2 Axes>"
      ]
     },
     "metadata": {
      "needs_background": "light"
     },
     "output_type": "display_data"
    }
   ],
   "source": [
    "twoD_histo = True\n",
    "if twoD_histo:\n",
    "    n_bins=20\n",
    "    fig, ax = plt.subplots(1,2)\n",
    "    ax[0].hist2d(orange_widths, orange_heights, bins=n_bins,cmap='plasma')\n",
    "    ax[1].hist2d(apple_widths, apple_heights, bins=n_bins,cmap='plasma')\n",
    "\n",
    "\n",
    "    # Plot a colorbar with label.\n",
    "    #cb = ax[0].colorbar()\n",
    "    #cb.set_label('Number of entries')\n",
    "\n",
    "    \n",
    "else:\n",
    "    plt.figure()\n",
    "    plt.scatter(orange_widths, orange_heights, color='orange', alpha=0.5)\n",
    "    plt.scatter(apple_widths, apple_heights, color='r', alpha=0.5)\n",
    "\n",
    "plt.title(\"Distribution of Fruit Sizes\")\n",
    "plt.xlabel('Width (cm)')\n",
    "plt.ylabel('Height (cm)')\n",
    "#plt.xlim([5,10])\n",
    "#plt.ylim([5,10])\n",
    "ax[0].set_aspect('equal')\n",
    "ax[1].set_aspect('equal')\n",
    "plt.show()"
   ]
  },
  {
   "cell_type": "code",
   "execution_count": 8,
   "metadata": {},
   "outputs": [
    {
     "data": {
      "image/png": "[encoded data removed]",
      "text/plain": [
       "<Figure size 432x288 with 1 Axes>"
      ]
     },
     "metadata": {
      "needs_background": "light"
     },
     "output_type": "display_data"
    }
   ],
   "source": [
    "plt.hist(apple_col_index, bins = 100, color = 'r', alpha = 0.5)\n",
    "plt.hist(orange_col_index, bins = 100, color = 'orange', alpha = 0.5)\n",
    "plt.title('Distribution of Fruit Color Indicies')\n",
    "plt.show()"
   ]
  },
  {
   "cell_type": "code",
   "execution_count": 9,
   "metadata": {},
   "outputs": [],
   "source": [
    "### shuffle data\n",
    "np.random.shuffle(data)\n",
    "portion_for_training = 0.8\n",
    "sep_index = int(data.shape[0]*portion_for_training)\n",
    "training_set = data[0:sep_index]\n",
    "test_set = data[sep_index:]"
   ]
  },
  {
   "cell_type": "markdown",
   "metadata": {},
   "source": [
    "### Make Network"
   ]
  },
  {
   "cell_type": "code",
   "execution_count": 10,
   "metadata": {},
   "outputs": [],
   "source": [
    "class fruit_classifier(nn.Module):\n",
    "    def __init__(self, num_hidden):\n",
    "        super(fruit_classifier, self).__init__()\n",
    "        self.layer1 = nn.Linear(4, num_hidden)\n",
    "        self.layer2 = nn.Linear(num_hidden,1)\n",
    "        \n",
    "    def forward(self, x):\n",
    "        x = torch.sigmoid(self.layer1(x))\n",
    "        x = torch.sigmoid(self.layer2(x))\n",
    "        return x"
   ]
  },
  {
   "cell_type": "code",
   "execution_count": 11,
   "metadata": {},
   "outputs": [],
   "source": [
    "train_dataset = torch.Tensor(training_set)\n",
    "test_dataset = torch.Tensor(test_set)\n",
    "\n",
    "num_epochs = 1000\n",
    "\n",
    "batch_sizes = [10,50,250]\n",
    "lrs = [1e-4,1e-3,1e-2]\n",
    "hidden_units = [50,150,250,350]\n",
    "\n",
    "keep_track = {}"
   ]
  },
  {
   "cell_type": "code",
   "execution_count": 12,
   "metadata": {
    "scrolled": true
   },
   "outputs": [
    {
     "name": "stdout",
     "output_type": "stream",
     "text": [
      "Running parameter search. Computing loss with:\n",
      "batch size = 10\n",
      "    learning rate = 0.0001\n",
      "        hidden units = 50\n"
     ]
    },
    {
     "name": "stderr",
     "output_type": "stream",
     "text": [
      "/Users/annikcarson/.pyenv/versions/3.10.3/lib/python3.10/site-packages/torch/nn/functional.py:1944: UserWarning: nn.functional.sigmoid is deprecated. Use torch.sigmoid instead.\n",
      "  warnings.warn(\"nn.functional.sigmoid is deprecated. Use torch.sigmoid instead.\")\n"
     ]
    },
    {
     "name": "stdout",
     "output_type": "stream",
     "text": [
      "        hidden units = 150\n",
      "        hidden units = 250\n",
      "        hidden units = 350\n",
      "    learning rate = 0.001\n",
      "        hidden units = 50\n",
      "        hidden units = 150\n",
      "        hidden units = 250\n",
      "        hidden units = 350\n"
     ]
    },
    {
     "ename": "KeyboardInterrupt",
     "evalue": "",
     "output_type": "error",
     "traceback": [
      "\u001b[0;31m---------------------------------------------------------------------------\u001b[0m",
      "\u001b[0;31mKeyboardInterrupt\u001b[0m                         Traceback (most recent call last)",
      "Input \u001b[0;32mIn [12]\u001b[0m, in \u001b[0;36m<cell line: 3>\u001b[0;34m()\u001b[0m\n\u001b[1;32m     32\u001b[0m \u001b[38;5;66;03m#backward and optimize\u001b[39;00m\n\u001b[1;32m     33\u001b[0m optimizer\u001b[38;5;241m.\u001b[39mzero_grad()\n\u001b[0;32m---> 34\u001b[0m \u001b[43mloss\u001b[49m\u001b[38;5;241;43m.\u001b[39;49m\u001b[43mbackward\u001b[49m\u001b[43m(\u001b[49m\u001b[43m)\u001b[49m\n\u001b[1;32m     35\u001b[0m optimizer\u001b[38;5;241m.\u001b[39mstep()\n\u001b[1;32m     36\u001b[0m track_loss\u001b[38;5;241m.\u001b[39mappend(loss\u001b[38;5;241m.\u001b[39mitem())\n",
      "File \u001b[0;32m~/.pyenv/versions/3.10.3/lib/python3.10/site-packages/torch/_tensor.py:363\u001b[0m, in \u001b[0;36mTensor.backward\u001b[0;34m(self, gradient, retain_graph, create_graph, inputs)\u001b[0m\n\u001b[1;32m    354\u001b[0m \u001b[38;5;28;01mif\u001b[39;00m has_torch_function_unary(\u001b[38;5;28mself\u001b[39m):\n\u001b[1;32m    355\u001b[0m     \u001b[38;5;28;01mreturn\u001b[39;00m handle_torch_function(\n\u001b[1;32m    356\u001b[0m         Tensor\u001b[38;5;241m.\u001b[39mbackward,\n\u001b[1;32m    357\u001b[0m         (\u001b[38;5;28mself\u001b[39m,),\n\u001b[0;32m   (...)\u001b[0m\n\u001b[1;32m    361\u001b[0m         create_graph\u001b[38;5;241m=\u001b[39mcreate_graph,\n\u001b[1;32m    362\u001b[0m         inputs\u001b[38;5;241m=\u001b[39minputs)\n\u001b[0;32m--> 363\u001b[0m \u001b[43mtorch\u001b[49m\u001b[38;5;241;43m.\u001b[39;49m\u001b[43mautograd\u001b[49m\u001b[38;5;241;43m.\u001b[39;49m\u001b[43mbackward\u001b[49m\u001b[43m(\u001b[49m\u001b[38;5;28;43mself\u001b[39;49m\u001b[43m,\u001b[49m\u001b[43m \u001b[49m\u001b[43mgradient\u001b[49m\u001b[43m,\u001b[49m\u001b[43m \u001b[49m\u001b[43mretain_graph\u001b[49m\u001b[43m,\u001b[49m\u001b[43m \u001b[49m\u001b[43mcreate_graph\u001b[49m\u001b[43m,\u001b[49m\u001b[43m \u001b[49m\u001b[43minputs\u001b[49m\u001b[38;5;241;43m=\u001b[39;49m\u001b[43minputs\u001b[49m\u001b[43m)\u001b[49m\n",
      "File \u001b[0;32m~/.pyenv/versions/3.10.3/lib/python3.10/site-packages/torch/autograd/__init__.py:173\u001b[0m, in \u001b[0;36mbackward\u001b[0;34m(tensors, grad_tensors, retain_graph, create_graph, grad_variables, inputs)\u001b[0m\n\u001b[1;32m    168\u001b[0m     retain_graph \u001b[38;5;241m=\u001b[39m create_graph\n\u001b[1;32m    170\u001b[0m \u001b[38;5;66;03m# The reason we repeat same the comment below is that\u001b[39;00m\n\u001b[1;32m    171\u001b[0m \u001b[38;5;66;03m# some Python versions print out the first line of a multi-line function\u001b[39;00m\n\u001b[1;32m    172\u001b[0m \u001b[38;5;66;03m# calls in the traceback and some print out the last line\u001b[39;00m\n\u001b[0;32m--> 173\u001b[0m \u001b[43mVariable\u001b[49m\u001b[38;5;241;43m.\u001b[39;49m\u001b[43m_execution_engine\u001b[49m\u001b[38;5;241;43m.\u001b[39;49m\u001b[43mrun_backward\u001b[49m\u001b[43m(\u001b[49m\u001b[43m  \u001b[49m\u001b[38;5;66;43;03m# Calls into the C++ engine to run the backward pass\u001b[39;49;00m\n\u001b[1;32m    174\u001b[0m \u001b[43m    \u001b[49m\u001b[43mtensors\u001b[49m\u001b[43m,\u001b[49m\u001b[43m \u001b[49m\u001b[43mgrad_tensors_\u001b[49m\u001b[43m,\u001b[49m\u001b[43m \u001b[49m\u001b[43mretain_graph\u001b[49m\u001b[43m,\u001b[49m\u001b[43m \u001b[49m\u001b[43mcreate_graph\u001b[49m\u001b[43m,\u001b[49m\u001b[43m \u001b[49m\u001b[43minputs\u001b[49m\u001b[43m,\u001b[49m\n\u001b[1;32m    175\u001b[0m \u001b[43m    \u001b[49m\u001b[43mallow_unreachable\u001b[49m\u001b[38;5;241;43m=\u001b[39;49m\u001b[38;5;28;43;01mTrue\u001b[39;49;00m\u001b[43m,\u001b[49m\u001b[43m \u001b[49m\u001b[43maccumulate_grad\u001b[49m\u001b[38;5;241;43m=\u001b[39;49m\u001b[38;5;28;43;01mTrue\u001b[39;49;00m\u001b[43m)\u001b[49m\n",
      "\u001b[0;31mKeyboardInterrupt\u001b[0m: "
     ]
    }
   ],
   "source": [
    "print(\"Running parameter search. Computing loss with:\")\n",
    "start_time = time.time()\n",
    "for batch_size in batch_sizes:\n",
    "    print(f'batch size = {batch_size}')\n",
    "    train_loader = torch.utils.data.DataLoader(dataset = train_dataset, batch_size = batch_size, shuffle=True)\n",
    "    test_loader =  torch.utils.data.DataLoader(dataset = test_dataset,batch_size = batch_size, shuffle=False)\n",
    "\n",
    "    keep_track[str(batch_size)] = {}\n",
    "    for learn_rate in lrs:\n",
    "        print(f'    learning rate = {learn_rate}')\n",
    "        keep_track[str(batch_size)][str(learn_rate)] = {}\n",
    "        for hids in hidden_units:\n",
    "            print(f'        hidden units = {hids}')\n",
    "            model=fruit_classifier(num_hidden = hids)\n",
    "            optimizer = torch.optim.Adam(model.parameters(), lr = learn_rate)\n",
    "            loss_fxn = nn.L1Loss()\n",
    "\n",
    "            track_loss = []\n",
    "            for epoch in range(num_epochs):\n",
    "                losses = []\n",
    "                for i, train_deets in enumerate(train_loader):\n",
    "                    inputs = train_deets[:,1:]\n",
    "                    labels = train_deets[:,0].unsqueeze(1)\n",
    "\n",
    "                    #forward pass\n",
    "                    outputs = model(inputs)\n",
    "                    lossy_loss = loss_fxn(outputs, labels)\n",
    "\n",
    "                    losses.append(lossy_loss)\n",
    "\n",
    "                loss = torch.stack(losses).sum()\n",
    "                #backward and optimize\n",
    "                optimizer.zero_grad()\n",
    "                loss.backward()\n",
    "                optimizer.step()\n",
    "                track_loss.append(loss.item())\n",
    "                \n",
    "                #if epoch %100 == 0:\n",
    "                #    print ('Epoch [{}/{}], Loss: {:.4f}'.format(epoch+1, num_epochs, loss.item()))\n",
    "            keep_track[str(batch_size)][str(learn_rate)][str(hids)] = track_loss\n",
    "end_time = time.time()\n",
    "hours, rem = divmod(end_time-start_time, 3600)\n",
    "minutes, seconds = divmod(rem, 60)\n",
    "print(\"Parameter search simulations finished after {:0>2}:{:0>2}:{:05.2f}\".format(int(hours),int(minutes),seconds))"
   ]
  },
  {
   "cell_type": "code",
   "execution_count": null,
   "metadata": {},
   "outputs": [],
   "source": [
    "load_data = True\n",
    "if load_data:\n",
    "    infile = open(\"fruit_runs_data\",'rb')\n",
    "    keep_track = pickle.load(infile)\n",
    "    infile.close()\n",
    "    \n",
    "lr_markers = [':', '--', '-.','-']\n",
    "colors = ['red', 'orange', 'green', 'blue', 'gray']\n",
    "\n",
    "custom_lines = [Line2D([0],[0], color='k',lw=1, linestyle=l) for l in lr_markers]+[Line2D([0],[0], color=c,lw=3) for c in colors]\n",
    "\n",
    "plt.figure(0)\n",
    "batch_size = batch_sizes[2]\n",
    "\n",
    "for j in range(len(lrs)):\n",
    "    learn_rate = lrs[j]\n",
    "    for k,hids in enumerate(hidden_units):\n",
    "        plt.plot(keep_track[str(batch_size)][str(learn_rate)][str(hids)], linestyle = lr_markers[k], color = colors[j], label=str(hids))\n",
    "plt.legend(custom_lines, [f'units={h}' for h in hidden_units]+ [f'$\\eta=${l}' for l in lrs], bbox_to_anchor = (1, 1),loc=2,ncol=2)\n",
    "plt.title(f'Loss with batch size={batch_size}')\n",
    "\n",
    "\n",
    "\n",
    "plt.show()"
   ]
  },
  {
   "cell_type": "code",
   "execution_count": null,
   "metadata": {},
   "outputs": [],
   "source": [
    "plt.figure(1)\n",
    "for j in range(1):\n",
    "    learn_rate = lrs[1]\n",
    "    for k,hids in enumerate(hidden_units):\n",
    "        plt.plot(running_mean(keep_track[str(batch_size)][str(learn_rate)][str(hids)], 20), linestyle = lr_markers[k], color = colors[j], label=str(hids))\n",
    "plt.legend(custom_lines, [f'units={h}' for h in hidden_units]+ [f'$\\eta=${l}' for l in lrs], bbox_to_anchor = (1, 1),loc=2,ncol=2)\n",
    "plt.title(f'Loss with batch size={batch_size}')\n"
   ]
  },
  {
   "cell_type": "code",
   "execution_count": null,
   "metadata": {},
   "outputs": [],
   "source": [
    "\n",
    "# save data \n",
    "filename = \"fruit_runs_data\"\n",
    "outfile = open(filename, 'wb')\n",
    "pickle.dump(keep_track, outfile)\n",
    "outfile.close()"
   ]
  },
  {
   "cell_type": "code",
   "execution_count": null,
   "metadata": {
    "scrolled": true
   },
   "outputs": [],
   "source": [
    "train_batch_size = 250\n",
    "test_batch_size = 10\n",
    "num_h = 350\n",
    "eta = 1e-3\n",
    "num_epochs = 5000\n",
    "\n",
    "train_loader = torch.utils.data.DataLoader(dataset = train_dataset, batch_size = batch_size, shuffle=True)\n",
    "test_loader =  torch.utils.data.DataLoader(dataset = test_dataset,batch_size = 10, shuffle=False)\n",
    "\n",
    "model=fruit_classifier(num_hidden = num_h)\n",
    "optimizer = torch.optim.Adam(model.parameters(), lr = eta)\n",
    "loss_fxn = nn.L1Loss()\n",
    "\n",
    "track_loss = []\n",
    "for epoch in range(num_epochs):\n",
    "    losses = []\n",
    "    for i, train_deets in enumerate(train_loader):\n",
    "        inputs = train_deets[:,1:]\n",
    "        labels = train_deets[:,0].unsqueeze(1)\n",
    "\n",
    "        #forward pass\n",
    "        outputs = model(inputs)\n",
    "        lossy_loss = loss_fxn(outputs, labels)\n",
    "\n",
    "        losses.append(lossy_loss)\n",
    "\n",
    "    loss = torch.stack(losses).sum()\n",
    "    #backward and optimize\n",
    "    optimizer.zero_grad()\n",
    "    loss.backward()\n",
    "    optimizer.step()\n",
    "    track_loss.append(loss.item())\n",
    "\n",
    "    if epoch %100 == 0:\n",
    "        print ('Epoch [{}/{}], Loss: {:.4f}'.format(epoch+1, num_epochs, loss.item()))\n"
   ]
  },
  {
   "cell_type": "code",
   "execution_count": null,
   "metadata": {},
   "outputs": [],
   "source": [
    "plt.plot(track_loss)"
   ]
  },
  {
   "cell_type": "code",
   "execution_count": null,
   "metadata": {},
   "outputs": [],
   "source": []
  },
  {
   "cell_type": "code",
   "execution_count": null,
   "metadata": {},
   "outputs": [],
   "source": [
    "correct_guesses = []\n",
    "test_batch_size = 10\n",
    "use_step = True\n",
    "for i, test_deets in enumerate(test_loader):\n",
    "    counter = 0\n",
    "    inputs = test_deets[:,1:]\n",
    "    labels = test_deets[:,0].unsqueeze(1)\n",
    "    output = model(inputs)\n",
    "\n",
    "    for answer, guess in zip(labels, output):\n",
    "        if use_step:\n",
    "            if guess.item() <0.5:\n",
    "                choice = 0\n",
    "            elif guess.item() >= 0.5:\n",
    "                choice = 1\n",
    "        else:\n",
    "            choice = np.random.choice([0,1], p = [1-guess.item(), guess.item()])\n",
    "        if int(choice) == int(answer.item()):\n",
    "            counter +=1 \n",
    "\n",
    "    correct_guesses.append(counter/10)\n",
    "print(f'{np.mean(correct_guesses)*100}% Correct on Test Set')"
   ]
  },
  {
   "cell_type": "code",
   "execution_count": null,
   "metadata": {},
   "outputs": [],
   "source": []
  },
  {
   "cell_type": "code",
   "execution_count": null,
   "metadata": {},
   "outputs": [],
   "source": []
  }
 ],
 "metadata": {
  "kernelspec": {
   "display_name": "Python 3 (ipykernel)",
   "language": "python",
   "name": "python3"
  },
  "language_info": {
   "codemirror_mode": {
    "name": "ipython",
    "version": 3
   },
   "file_extension": ".py",
   "mimetype": "text/x-python",
   "name": "python",
   "nbconvert_exporter": "python",
   "pygments_lexer": "ipython3",
   "version": "3.10.3"
  }
 },
 "nbformat": 4,
 "nbformat_minor": 2
}
