{
 "cells": [
  {
   "cell_type": "code",
   "execution_count": 5,
   "id": "71d5fa65",
   "metadata": {},
   "outputs": [],
   "source": [
    "import numpy as np\n",
    "import matplotlib.pyplot as plt\n",
    "import env_functions as ef\n",
    "%matplotlib inline\n",
    "# set seed for pseudorandom number generation -- make sure our trajectories look the same\n",
    "np.random.seed(123)"
   ]
  },
  {
   "cell_type": "markdown",
   "id": "229cb1ad",
   "metadata": {},
   "source": [
    "# Fundamental Building Blocks of the Reinforcement Learning Problem\n",
    "A reinforcement learning problem is one where we are interested in how an agent learns from its interaction with the environment it operates in. The agent gets information from the environment about what state it is in, and chooses how to act in that state. The learning problem is about how to make better and better choices with the information you have. \n",
    "\n",
    "When the agent chooses an action, this has some effect on the environment. The agent tells the environment \"Ok, I choose to go left,\" and the environment gives it feedback about the consequences of that action. This feedback is in the form of information about:\n",
    "* What new state does this action take the agent to. For example, from state 1 taking action \"up\" might take you to state 2. \n",
    "* How good or bad that state and/or action selection was in the form of a reward signal. For example, the environment might tell the agent that the reward from taking action \"up\" from state 1 was worth +10 points.   "
   ]
  },
  {
   "cell_type": "markdown",
   "id": "8f4b9d4f",
   "metadata": {},
   "source": [
    "### Here we need to make an environment which has the following functionality:\n",
    "\n",
    "- A defined size/shape\n",
    "- A rule for the consequences of actions\n",
    "     - Given the current state and action, produce a new state for the agent\n",
    "     - Given the current state, produce a reward signal upon leaving that state\n",
    "     \n",
    "<img src=\"gridworld.png\" width=\"500\"/>"
   ]
  },
  {
   "cell_type": "code",
   "execution_count": null,
   "id": "792564cf",
   "metadata": {},
   "outputs": [],
   "source": [
    "# make a small basic GW env = 4x4"
   ]
  },
  {
   "cell_type": "code",
   "execution_count": null,
   "id": "71f14e08",
   "metadata": {},
   "outputs": [],
   "source": []
  },
  {
   "cell_type": "code",
   "execution_count": 6,
   "id": "fa67784f",
   "metadata": {},
   "outputs": [
    {
     "data": {
      "image/png": "[encoded data removed]",
      "text/plain": [
       "<Figure size 151.2x151.2 with 1 Axes>"
      ]
     },
     "metadata": {},
     "output_type": "display_data"
    }
   ],
   "source": [
    "gw = ef.GridWorld(rows=6,cols=6,\n",
    "                  obstacles=[(2,0),(2,1),(0,3),(1,3),(2,3),(4,3),(4,4),(4,5)], \n",
    "                  jumps={(0,0):(1,5),(1,1):(5,5),(2,5):(5,5)},\n",
    "                  rewards={(1,5):10,(5,5):-5},\n",
    "                  terminals=[(1,5)],\n",
    "                  actionlist=['Down','Up','Right','Left','Jump']\n",
    "                 )"
   ]
  },
  {
   "cell_type": "code",
   "execution_count": 10,
   "id": "db28b81d",
   "metadata": {},
   "outputs": [
    {
     "data": {
      "image/png": "[encoded data removed]",
      "text/plain": [
       "<Figure size 151.2x151.2 with 1 Axes>"
      ]
     },
     "metadata": {},
     "output_type": "display_data"
    }
   ],
   "source": [
    "gw = ef.GridWorld(rows=6,cols=6,\n",
    "                  obstacles=[(2,0),(2,1),(0,3),(1,3),(2,3),(4,3),(4,4),(4,5)], \n",
    "                  #jumps={(0,0):(1,5),(1,1):(5,5),(2,5):(5,5)},\n",
    "                  rewards={(1,5):10,(5,5):-5},\n",
    "                  terminals=[(1,5)],\n",
    "                  actionlist=['Down','Up','Right','Left']\n",
    "                 )"
   ]
  },
  {
   "cell_type": "code",
   "execution_count": 15,
   "id": "338d90ca",
   "metadata": {},
   "outputs": [
    {
     "data": {
      "text/plain": [
       "(4, 36, 36)"
      ]
     },
     "execution_count": 15,
     "metadata": {},
     "output_type": "execute_result"
    }
   ],
   "source": [
    "gw.P.shape"
   ]
  },
  {
   "cell_type": "code",
   "execution_count": null,
   "id": "08046917",
   "metadata": {},
   "outputs": [],
   "source": []
  }
 ],
 "metadata": {
  "kernelspec": {
   "display_name": "Python 3 (ipykernel)",
   "language": "python",
   "name": "python3"
  },
  "language_info": {
   "codemirror_mode": {
    "name": "ipython",
    "version": 3
   },
   "file_extension": ".py",
   "mimetype": "text/x-python",
   "name": "python",
   "nbconvert_exporter": "python",
   "pygments_lexer": "ipython3",
   "version": "3.10.3"
  }
 },
 "nbformat": 4,
 "nbformat_minor": 5
}
