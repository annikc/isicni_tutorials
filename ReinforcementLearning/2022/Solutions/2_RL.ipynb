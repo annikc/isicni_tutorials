{
 "cells": [
  {
   "cell_type": "code",
   "execution_count": 2,
   "metadata": {
    "id": "39Xqcc-5OqH6"
   },
   "outputs": [],
   "source": [
    "#Basic tutorial of RL environment classes and agent classes completed February 2021 by Annik Carson\n",
    "import numpy as np\n",
    "import matplotlib.pyplot as plt\n",
    "\n",
    "import env_functions as ef\n",
    "from rl_utils import running_mean\n",
    "from importlib import reload"
   ]
  },
  {
   "cell_type": "markdown",
   "metadata": {
    "id": "fMccmakD4cG9"
   },
   "source": [
    "# Fundamental Building Blocks of the Reinforcement Learning Problem\n",
    "A reinforcement learning problem is one where we are interested in how an agent learns from its interaction with the environment it operates in. The agent gets information from the environment about what state it is in, and chooses how to act in that state. The learning problem is about how to make better and better choices with the information you have. \n",
    "\n",
    "<img src=\"RL_agt.png\" width=\"500\"/>\n",
    "\n",
    "Here we will focus on what pieces go into an agent so that it can learn to make choices. We have already seen the agent which just uses the random policy. However, this does not take into account any information about performance, and has no mechanism for altering its policy toward something better. In this section we will show some examples of how to build agents that learn from experience.  "
   ]
  },
  {
   "cell_type": "markdown",
   "metadata": {
    "id": "zTk_9HNaEFxh"
   },
   "source": [
    "# What's in an agent \n",
    "An agent takes in information of state and produces an action\n",
    "The most basic agent will just choose actions randomly"
   ]
  },
  {
   "cell_type": "code",
   "execution_count": 3,
   "metadata": {},
   "outputs": [],
   "source": [
    "class RandomAgent(object):\n",
    "    def __init__(self, num_actions):\n",
    "        self.num_actions = num_actions\n",
    "    def select_action(self, state):\n",
    "        # state actually does nothing in this agent, but we will want our action selection\n",
    "        # in later agents to be based on the state we're in\n",
    "        action = np.random.choice(self.num_actions)\n",
    "        return action"
   ]
  },
  {
   "cell_type": "markdown",
   "metadata": {
    "id": "sgYCWZVOIylO"
   },
   "source": [
    "## Value-Based Agents"
   ]
  },
  {
   "cell_type": "code",
   "execution_count": 4,
   "metadata": {
    "id": "Mcj-7QRTUDw0"
   },
   "outputs": [],
   "source": [
    "class Q_Agent(object):\n",
    "    def __init__(self, env, learning_rate=0.07, discount=0.9, epsilon=1):\n",
    "        self.num_actions = env.nactions\n",
    "        self.action_space = np.arange(self.num_actions)\n",
    "\n",
    "        # this agent selects actions from a table of state,action values which we initalize randomly\n",
    "        self.q_table = np.random.uniform(low=-2, high=0.1, size=(env.nstates, env.nactions))\n",
    "        #self.q_table = np.zeros((env.nstates, env.nactions))\n",
    "\n",
    "        # parameters for learning\n",
    "        self.epsilon       = epsilon\n",
    "        self.learning_rate = learning_rate\n",
    "        self.discount      = discount\n",
    "\n",
    "    def choose_action(self, state):\n",
    "        # this agent uses epsilon-greedy action selection, meaning that it selects \n",
    "        # the greedy (highest value) action most of the time, but with epsilon probability\n",
    "        # it will select a random action -- this helps encourage the agent to explore\n",
    "        # unseen trajectories\n",
    "        if np.random.random()>self.epsilon:\n",
    "            # take the action which corresponds to the highest value in the q table at that row (state)\n",
    "            action = np.argmax(self.q_table[state]) \n",
    "        else:\n",
    "            action=np.random.choice(self.action_space)\n",
    "        return action\n",
    "\n",
    "\n",
    "    def update_q_table(self, current_state, current_action, reward, new_state):\n",
    "        # this function describes how the Q table gets updated so the agent can make \n",
    "        # better choices based on what it has experienced from the environment \n",
    "        current_q = self.q_table[ current_state, current_action]\n",
    "        max_future_q = np.max(self.q_table[new_state,:])\n",
    "\n",
    "        new_q = (1-self.learning_rate)*current_q + self.learning_rate*(reward + self.discount*max_future_q)\n",
    "        self.q_table[current_state, current_action] = new_q\n",
    "        \n",
    "#SARSA agent class\n",
    "class SARSA_Agent(Q_Agent):\n",
    "    def __init__(self, env, learning_rate=0.1, discount=0.95, epsilon=1.0):\n",
    "        super().__init__(env, learning_rate=learning_rate , discount=discount, epsilon=epsilon)\n",
    "\n",
    "    #updates q values after each step \n",
    "    # similar to Q update but with one key difference -- we use the action we *actually* took\n",
    "    # rather than guessing we took the max value action\n",
    "    # with epsilon probability, we will have actually taken a random action, so SARSA wants to account for that \n",
    "    def update_q_table(self,current_state, current_action, reward, next_state, next_action):\n",
    "        current_q = self.q_table[ current_state, current_action]\n",
    "        future_q = self.q_table[ next_state, next_action] # np.max(self.q_table[new_state,:])\n",
    "\n",
    "        new_q = (1-self.learning_rate)*current_q + self.learning_rate*(reward + self.discount*future_q)\n",
    "        self.q_table[current_state, current_action] = new_q\n"
   ]
  },
  {
   "cell_type": "markdown",
   "metadata": {},
   "source": [
    "## Because Q and SARSA need to keep track of slightly different information, we will write two functions for how they navigate the environment "
   ]
  },
  {
   "cell_type": "code",
   "execution_count": 5,
   "metadata": {},
   "outputs": [],
   "source": [
    "def q_navigate(env, q_agent, num_episodes, random_start=False, start=0):\n",
    "    # set how we will decay the randomness of action selection over the course of training\n",
    "    start_eps_decay = 1\n",
    "    end_eps_decay = num_episodes//2\n",
    "    epsilon_decay_value = q_agent.epsilon/(end_eps_decay-start_eps_decay)\n",
    "\n",
    "    # initialize empty list for keeping track of rewards achieved per episode\n",
    "    reward_tracking=[]\n",
    "    max_steps= 1000\n",
    "    \n",
    "    for episode in range(num_episodes):\n",
    "        env.reset()\n",
    "        # initalize reward counter\n",
    "        total_reward=0\n",
    "\n",
    "        # get first state and action\n",
    "        if random_start:\n",
    "            state=np.random.choice(env.nstates)\n",
    "        else:\n",
    "            state=start\n",
    "        \n",
    "        for step in range(max_steps):\n",
    "            action = q_agent.choose_action(state)\n",
    "            # take a step in the environment\n",
    "            next_state, reward, done, _ = env.step(action)\n",
    "\n",
    "            total_reward+=reward\n",
    "\n",
    "            if not done:\n",
    "                q_agent.update_q_table(state, action, reward, next_state)\n",
    "            else:\n",
    "                q_agent.q_table[state, action] = 0\n",
    "                break\n",
    "            state=next_state\n",
    "\n",
    "        reward_tracking.append(total_reward)\n",
    "\n",
    "        if end_eps_decay >= episode >= start_eps_decay:\n",
    "            q_agent.epsilon -= epsilon_decay_value\n",
    "\n",
    "    return reward_tracking\n",
    "\n",
    "def sarsa_navigate(env, sarsa_agent, num_episodes, random_start=False, start=0): # takes sarsa_agent as input \n",
    "    #-- will not work w Q_agent bc takes additional argument of next_state in update_q_table function\n",
    "    # set how we will decay the randomness of action selection over the course of training\n",
    "    start_eps_decay = 1\n",
    "    end_eps_decay = num_episodes//2\n",
    "    epsilon_decay_value = sarsa_agent.epsilon/(end_eps_decay-start_eps_decay)\n",
    "\n",
    "    # initialize empty list for keeping track of rewards achieved per episode\n",
    "    reward_tracking=[]\n",
    "    max_steps= 100\n",
    "    \n",
    "    \n",
    "    for episode in range(num_episodes):\n",
    "        env.reset()\n",
    "        # initalize reward counter\n",
    "        total_reward=0\n",
    "\n",
    "        # get first state and action\n",
    "        if random_start:\n",
    "            state=np.random.choice(env.nstates)\n",
    "        else:\n",
    "            state=start\n",
    "        action = sarsa_agent.choose_action(state)\n",
    "\n",
    "        for step in range(max_steps):\n",
    "            # take a step in the environment\n",
    "            next_state, reward, done, _ = env.step(action)\n",
    "\n",
    "            total_reward+=reward\n",
    "\n",
    "            if not done:\n",
    "                next_action = sarsa_agent.choose_action(next_state)\n",
    "                sarsa_agent.update_q_table(state, action, reward, next_state, next_action)\n",
    "            else:\n",
    "                sarsa_agent.q_table[state, action] = 0\n",
    "                break\n",
    "            state=next_state\n",
    "            action=next_action\n",
    "\n",
    "        reward_tracking.append(total_reward)\n",
    "\n",
    "        if end_eps_decay >= episode >= start_eps_decay:\n",
    "            sarsa_agent.epsilon -= epsilon_decay_value\n",
    "\n",
    "    return reward_tracking"
   ]
  },
  {
   "cell_type": "code",
   "execution_count": 14,
   "metadata": {},
   "outputs": [
    {
     "data": {
      "image/png": "[encoded data removed]",
      "text/plain": [
       "<Figure size 252x252 with 1 Axes>"
      ]
     },
     "metadata": {},
     "output_type": "display_data"
    }
   ],
   "source": [
    "reload(ef)\n",
    "n_rows, n_cols = 10,10\n",
    "step_penalization = -0.1\n",
    "env = ef.GridWorld(rows=n_rows,cols=n_cols,\n",
    "                  #obstacles=[(2,2),(2,3),(2,4),(3,2),(2,5),(2,6),(2,7),(2,8)], \n",
    "                  rewards={(5,5):10},\n",
    "                  #terminals=[(5,5)],\n",
    "                  step_penalization=step_penalization,\n",
    "                  actionlist=['Down','Up','Right','Left'],\n",
    "                  view_labels=True,\n",
    "                  #finish_after_first_reward=False\n",
    "                  )"
   ]
  },
  {
   "cell_type": "code",
   "execution_count": 15,
   "metadata": {},
   "outputs": [
    {
     "data": {
      "text/plain": [
       "[<matplotlib.lines.Line2D at 0x10eb85000>]"
      ]
     },
     "execution_count": 15,
     "metadata": {},
     "output_type": "execute_result"
    },
    {
     "data": {
      "image/png": "[encoded data removed]",
      "text/plain": [
       "<Figure size 432x288 with 1 Axes>"
      ]
     },
     "metadata": {
      "needs_background": "light"
     },
     "output_type": "display_data"
    }
   ],
   "source": [
    "qlearner = Q_Agent(env)\n",
    "\n",
    "rewards = q_navigate(env, qlearner, num_episodes=5000)\n",
    "plt.plot(running_mean(rewards,N=30))"
   ]
  },
  {
   "cell_type": "code",
   "execution_count": 18,
   "metadata": {},
   "outputs": [
    {
     "data": {
      "image/png": "[encoded data removed]",
      "text/plain": [
       "<Figure size 432x288 with 5 Axes>"
      ]
     },
     "metadata": {
      "needs_background": "light"
     },
     "output_type": "display_data"
    }
   ],
   "source": [
    "fig, ax = plt.subplots(1,4)\n",
    "for i in range(4):\n",
    "    f = ax[i].imshow(qlearner.q_table[:,i].reshape(n_rows,n_cols))\n",
    "    ax[i].set_title(env.action_list[i])\n",
    "    \n",
    "# To Do == fix colorbar size \n",
    "plt.colorbar(f)\n",
    "plt.show()"
   ]
  },
  {
   "cell_type": "code",
   "execution_count": 19,
   "metadata": {},
   "outputs": [
    {
     "data": {
      "text/plain": [
       "<matplotlib.colorbar.Colorbar at 0x109c6f370>"
      ]
     },
     "execution_count": 19,
     "metadata": {},
     "output_type": "execute_result"
    },
    {
     "data": {
      "image/png": "[encoded data removed]",
      "text/plain": [
       "<Figure size 432x288 with 2 Axes>"
      ]
     },
     "metadata": {
      "needs_background": "light"
     },
     "output_type": "display_data"
    }
   ],
   "source": [
    "a = np.mean(qlearner.q_table, axis=1).reshape(n_rows,n_cols)\n",
    "\n",
    "f = plt.imshow(a)\n",
    "plt.colorbar(f)"
   ]
  },
  {
   "cell_type": "markdown",
   "metadata": {},
   "source": [
    "Why does the location of the reward show no value?"
   ]
  },
  {
   "cell_type": "code",
   "execution_count": null,
   "metadata": {},
   "outputs": [],
   "source": []
  }
 ],
 "metadata": {
  "colab": {
   "collapsed_sections": [],
   "name": "1 - Basics of RL: Environments and Agents.ipynb",
   "provenance": []
  },
  "kernelspec": {
   "display_name": "Python 3 (ipykernel)",
   "language": "python",
   "name": "python3"
  },
  "language_info": {
   "codemirror_mode": {
    "name": "ipython",
    "version": 3
   },
   "file_extension": ".py",
   "mimetype": "text/x-python",
   "name": "python",
   "nbconvert_exporter": "python",
   "pygments_lexer": "ipython3",
   "version": "3.10.3"
  }
 },
 "nbformat": 4,
 "nbformat_minor": 1
}
