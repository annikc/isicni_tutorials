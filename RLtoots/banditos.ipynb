{
 "cells": [
  {
   "cell_type": "code",
   "execution_count": 1,
   "metadata": {},
   "outputs": [],
   "source": [
    "import numpy as np\n",
    "import tut_basics as tb"
   ]
  },
  {
   "cell_type": "markdown",
   "metadata": {},
   "source": [
    "# 1 Multi-Armed Bandits"
   ]
  },
  {
   "cell_type": "code",
   "execution_count": 2,
   "metadata": {},
   "outputs": [],
   "source": [
    "# activate a particular bandit and collect reward\n",
    "def arm_pull(bandit_id):\n",
    "    if bandit_id == 1:\n",
    "        reward = tb.bandit1()\n",
    "    elif bandit_id == 2:\n",
    "        reward = tb.bandit2()\n",
    "    elif bandit_id == 3:\n",
    "        reward = tb.bandit3()\n",
    "    else:\n",
    "        print(\"No bandit corresponding to \", bandit_id)\n",
    "    return reward"
   ]
  },
  {
   "cell_type": "code",
   "execution_count": 13,
   "metadata": {},
   "outputs": [
    {
     "name": "stdout",
     "output_type": "stream",
     "text": [
      "1\n"
     ]
    }
   ],
   "source": [
    "## pass 1, 2, or 3 to the arm_pull function\n",
    "reward = arm_pull(3)\n",
    "print(reward)"
   ]
  },
  {
   "cell_type": "markdown",
   "metadata": {},
   "source": [
    "### Goal: find the arm that will give the greatest return"
   ]
  },
  {
   "cell_type": "markdown",
   "metadata": {},
   "source": [
    "#### 1.1 Collect data samples for each arm. "
   ]
  },
  {
   "cell_type": "code",
   "execution_count": 14,
   "metadata": {},
   "outputs": [
    {
     "data": {
      "text/plain": [
       "array([[ 0,  1,  1],\n",
       "       [ 1,  1,  1],\n",
       "       [ 1,  1,  1],\n",
       "       ...,\n",
       "       [ 0, 10,  1],\n",
       "       [ 1, 10, 10],\n",
       "       [ 1,  1,  1]])"
      ]
     },
     "execution_count": 14,
     "metadata": {},
     "output_type": "execute_result"
    }
   ],
   "source": [
    "n_samples = 1000\n",
    "\n",
    "# create list to store rewards\n",
    "R = [[],[],[]] \n",
    "# loop over number of samples for each of the three bandits\n",
    "for i in range(n_samples):\n",
    "    for j in range(3):\n",
    "        # collect rewards for each arm \n",
    "        reward = arm_pull(j+1)\n",
    "        # log reward in list\n",
    "        R[j].append(reward)\n",
    "\n",
    "# display the rewards that were collected\n",
    "np.array(R).T"
   ]
  },
  {
   "cell_type": "markdown",
   "metadata": {},
   "source": [
    "#### 1.2 Compute the expected return for each arm\n",
    "\n",
    "Recall E(R) = $\\sum_r$ r * p(r) "
   ]
  },
  {
   "cell_type": "code",
   "execution_count": 15,
   "metadata": {},
   "outputs": [
    {
     "name": "stdout",
     "output_type": "stream",
     "text": [
      "Reward Values:  [0 1] [ 1 10] [ 1 10]\n",
      "Reward Freqencies:  [0.489, 0.511] [0.708, 0.292] [0.904, 0.096]\n"
     ]
    }
   ],
   "source": [
    "# get values of rewards each arm gave\n",
    "rewards1 = np.unique(np.array(R)[0,:])\n",
    "rewards2 = np.unique(np.array(R)[1,:])\n",
    "rewards3 = np.unique(np.array(R)[2,:])\n",
    "print(\"Reward Values: \", rewards1, rewards2, rewards3)\n",
    "#compute how often each reward occured out of total rewards\n",
    "# use as an estimate of the probability of receiving that reward\n",
    "props1 = [R[0].count(rewards1[0])/len(R[0]), R[0].count(rewards1[1])/len(R[0])]\n",
    "props2 = [R[1].count(rewards2[0])/len(R[1]), R[1].count(rewards2[1])/len(R[1])]\n",
    "props3 = [R[2].count(rewards3[0])/len(R[2]), R[2].count(rewards3[1])/len(R[2])] \n",
    "print(\"Reward Freqencies: \", props1, props2, props3)"
   ]
  },
  {
   "cell_type": "code",
   "execution_count": 16,
   "metadata": {},
   "outputs": [
    {
     "name": "stdout",
     "output_type": "stream",
     "text": [
      "Expected Vaule of Arm 1:  0.511\n",
      "Expected Vaule of Arm 2:  3.628\n",
      "Expected Vaule of Arm 3:  1.8639999999999999\n"
     ]
    }
   ],
   "source": [
    "## Compute the expected return for each arm\n",
    "E1 = np.dot(rewards1, props1)\n",
    "print(\"Expected Vaule of Arm 1: \", E1)\n",
    "E2 = np.dot(rewards2, props2)\n",
    "print(\"Expected Vaule of Arm 2: \", E2)\n",
    "E3 = np.dot(rewards3, props3)\n",
    "print(\"Expected Vaule of Arm 3: \", E3)"
   ]
  },
  {
   "cell_type": "markdown",
   "metadata": {},
   "source": [
    "#### What happens if you increase your number of samples? "
   ]
  },
  {
   "cell_type": "markdown",
   "metadata": {},
   "source": [
    "----------------------------------------------------------------"
   ]
  }
 ],
 "metadata": {
  "kernelspec": {
   "display_name": "Python 3",
   "language": "python",
   "name": "python3"
  },
  "language_info": {
   "codemirror_mode": {
    "name": "ipython",
    "version": 3
   },
   "file_extension": ".py",
   "mimetype": "text/x-python",
   "name": "python",
   "nbconvert_exporter": "python",
   "pygments_lexer": "ipython3",
   "version": "3.6.9"
  }
 },
 "nbformat": 4,
 "nbformat_minor": 2
}
