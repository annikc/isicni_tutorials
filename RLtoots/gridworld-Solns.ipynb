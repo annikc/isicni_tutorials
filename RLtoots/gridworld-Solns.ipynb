{
 "cells": [
  {
   "cell_type": "markdown",
   "metadata": {},
   "source": [
    "# 2 Gridworld"
   ]
  },
  {
   "cell_type": "code",
   "execution_count": 1,
   "metadata": {},
   "outputs": [],
   "source": [
    "import numpy as np\n",
    "import tut_basics as tb\n",
    "\n",
    "from plot_fxns import plotWorld, plotStateValue, plotStateActionValue, plotPolicyPi, plotGreedyPolicyQ\n",
    "from rl_agents import RLAgent, RLExampleAgent\n",
    "import importlib"
   ]
  },
  {
   "cell_type": "markdown",
   "metadata": {},
   "source": [
    "### 2.0 Build A Gridworld with Random Agent"
   ]
  },
  {
   "cell_type": "code",
   "execution_count": null,
   "metadata": {
    "scrolled": false
   },
   "outputs": [],
   "source": [
    "# build and plot world\n",
    "world = tb.GridWorldExample1()\n",
    "plotWorld(world)"
   ]
  },
  {
   "cell_type": "code",
   "execution_count": null,
   "metadata": {
    "scrolled": true
   },
   "outputs": [],
   "source": [
    "# initialize an agent and run an episode (see program printout)\n",
    "agent = RLExampleAgent(world)\n",
    "tb.run_episode(agent, print_details = False)"
   ]
  },
  {
   "cell_type": "code",
   "execution_count": null,
   "metadata": {},
   "outputs": [],
   "source": [
    "# plot value functions\n",
    "plotStateValue(agent.v, world)\n",
    "plotStateActionValue(agent.q, world)"
   ]
  },
  {
   "cell_type": "code",
   "execution_count": null,
   "metadata": {},
   "outputs": [],
   "source": [
    "# plot policy map\n",
    "plotPolicyPi(agent.Ppi, world)"
   ]
  },
  {
   "cell_type": "markdown",
   "metadata": {},
   "source": [
    "### 2.1 Dynamic Programming"
   ]
  },
  {
   "cell_type": "code",
   "execution_count": null,
   "metadata": {},
   "outputs": [],
   "source": [
    "# build and plot a new world\n",
    "world = tb.GridWorldExample2()\n",
    "plotWorld(world)"
   ]
  },
  {
   "cell_type": "code",
   "execution_count": null,
   "metadata": {},
   "outputs": [],
   "source": [
    "class DP_Agent(RLAgent):\n",
    "    \"\"\"Dynamic Programming (DP) agent.\"\"\"\n",
    "\n",
    "    def initRandomPolicy(self):\n",
    "        \"\"\"\n",
    "        Build the matrix P_pi = sum_a pi(a|s)*Pr_a(s'|s)\n",
    "        (See tutorial slides 13-15)\"\"\"\n",
    "        Psum = self.world.P.sum(axis=0)\n",
    "        Pnorm = Psum.sum(axis=1)\n",
    "        zero_idxs = Pnorm==0.0\n",
    "        Pnorm[zero_idxs] = 1.0\n",
    "        self.P_pi = (Psum.T / Pnorm).T\n",
    "\n",
    "    def evaluatePolicy(self, gamma):\n",
    "        delta = 1\n",
    "        maxiters = 1000  # maximum number of iterations\n",
    "        itr = 0\n",
    "        while(delta > 0.001 and itr < maxiters):\n",
    "            itr += 1\n",
    "            v_new = self.world.R + gamma * self.P_pi.dot(self.v) # note the policy doesn't appear here! It does in pseudocode. but has already been 'applied' to get P_pi\n",
    "            delta = np.max(np.abs(v_new - self.v))\n",
    "            self.v = v_new\n",
    "\n",
    "    def improvePolicy(self):\n",
    "        self.P_pi = np.zeros((self.world.nstates,self.world.nstates))\n",
    "        for s in range(self.world.nstates):\n",
    "            transitions = np.sum(self.world.P[:,s,:],axis=0).astype(bool)\n",
    "            nextvals = np.full((self.world.nstates,),-1e6)\n",
    "            nextvals[transitions] = self.v[transitions]\n",
    "            s_next = np.argmax(nextvals)\n",
    "            self.P_pi[s,s_next] = 1\n",
    "\n",
    "    def policyIteration(self, gamma):\n",
    "        print(\"Running policy iteration...\")\n",
    "        policyStable = False\n",
    "        itr = 0\n",
    "        maxiters = 1000\n",
    "        while(not policyStable and itr < maxiters):\n",
    "            itr += 1\n",
    "            Ppi_old = self.P_pi\n",
    "            self.evaluatePolicy(gamma)\n",
    "            self.improvePolicy()\n",
    "            policyStable = np.array_equal(Ppi_old,self.P_pi)\n",
    "        print(\"Converged after %d iterations.\" % itr)\n"
   ]
  },
  {
   "cell_type": "code",
   "execution_count": null,
   "metadata": {},
   "outputs": [],
   "source": [
    "agent = DP_Agent(world)\n",
    "# set your discount factor\n",
    "gamma = 0.99\n",
    "# initialize agent with random policy\n",
    "agent.initRandomPolicy()\n",
    "# do policy evaluation and improvment\n",
    "agent.policyIteration(gamma)"
   ]
  },
  {
   "cell_type": "code",
   "execution_count": null,
   "metadata": {},
   "outputs": [],
   "source": [
    "# plot value function\n",
    "plotStateValue(agent.v, world)\n",
    "# plot policy map\n",
    "plotPolicyPi(agent.P_pi, world)"
   ]
  },
  {
   "cell_type": "markdown",
   "metadata": {},
   "source": [
    "### 2.2 Temporal Difference Learning"
   ]
  },
  {
   "cell_type": "code",
   "execution_count": 3,
   "metadata": {},
   "outputs": [],
   "source": [
    "class TDSarsa_Agent(RLAgent):\n",
    "    def __init__(self, world):\n",
    "        super(TDSarsa_Agent, self).__init__(world)\n",
    "        self.policy = self.epsilongreedyQPolicy\n",
    "\n",
    "    def evaluatePolicyQ(self, gamma, alpha, ntrials):\n",
    "        delta = 1.0\n",
    "        old_q = self.q\n",
    "        for i in range(ntrials):\n",
    "            is_terminal = False\n",
    "            c = 0\n",
    "            self.reset()\n",
    "            s = self.state\n",
    "            a = self.choose_action()\n",
    "            while not is_terminal:\n",
    "                c += 1\n",
    "                is_terminal = self.take_action(a)\n",
    "                a_prime = self.choose_action() if not is_terminal else 'D'\n",
    "                self.q[s,self.action_dict[a]] += alpha*(self.reward + gamma*self.q[self.state,self.action_dict[a_prime]] - self.q[s,self.action_dict[a]])\n",
    "                s = self.state\n",
    "                a = a_prime\n",
    "            delta = min(np.max(np.abs(self.q - old_q)),delta)\n",
    "            old_q = self.q\n",
    "\n",
    "    def policyIteration(self, gamma, alpha, ntrials):\n",
    "        print(\"Running TD policy iteration...\")\n",
    "        policyStable = False\n",
    "        itr = 0\n",
    "        maxiters = 1000 # catch the while loop.\n",
    "        oldA = np.zeros((self.world.nstates,))\n",
    "        while (not policyStable and itr < maxiters):\n",
    "            itr += 1\n",
    "            self.evaluatePolicyQ(gamma, alpha, ntrials)   \n",
    "            policyStable = np.array_equal(oldA,np.argmax(self.q, axis=1)) # see if policy changes!\n",
    "            oldA = np.argmax(self.q, axis=1)\n",
    "        print(\"Converged after {} iterations.\".format(itr))"
   ]
  },
  {
   "cell_type": "code",
   "execution_count": 6,
   "metadata": {},
   "outputs": [
    {
     "name": "stdout",
     "output_type": "stream",
     "text": [
      "Running TD policy iteration...\n",
      "Converged after 2 iterations.\n"
     ]
    },
    {
     "data": {
      "image/png": "[encoded data removed]",
      "text/plain": [
       "<Figure size 648x360 with 2 Axes>"
      ]
     },
     "metadata": {
      "needs_background": "light"
     },
     "output_type": "display_data"
    }
   ],
   "source": [
    "world = tb.GridWorldExample3()\n",
    "agent = TDSarsa_Agent(world)\n",
    "\n",
    "gamma = 0.99\n",
    "alpha = 0.2\n",
    "ntrials = 500\n",
    "agent.evaluatePolicyQ(gamma, alpha, ntrials)\n",
    "agent.policyIteration(gamma, alpha, ntrials)\n",
    "\n",
    "plotStateActionValue(agent.q,world)"
   ]
  },
  {
   "cell_type": "markdown",
   "metadata": {},
   "source": [
    "### 2.3 Off-Policy Temporal Difference (TD) -- Q Learning"
   ]
  },
  {
   "cell_type": "markdown",
   "metadata": {},
   "source": [
    "Here you will compare Q learning with SARSA from above. Which one is better, and why? Plot the Q-values and policies for the two. Run 100 episodes of each after learning, and compare average total return for each episode. Which algorithm receives more reward on average? "
   ]
  },
  {
   "cell_type": "code",
   "execution_count": null,
   "metadata": {},
   "outputs": [],
   "source": [
    "class TDQ_Agent(TDSarsa_Agent):\n",
    "    def __init__(self, world):\n",
    "        super(TDQ_Agent, self).__init__(world)\n",
    "        self.policy = self.epsilongreedyQPolicy\n",
    "        self.offpolicy = self.greedyQPolicy\n",
    "\n",
    "    def choose_offpolicy_action(self):\n",
    "        state = self.world.get_state()\n",
    "        actions = self.world.get_actions()\n",
    "        self.action = self.offpolicy(state, actions)\n",
    "        return self.action\n",
    "\n",
    "    def evaluatePolicyQ(self, gamma, alpha, ntrials):\n",
    "        delta = 1.0\n",
    "        old_q = self.q\n",
    "        for i in range(ntrials):\n",
    "            is_terminal = False\n",
    "            c = 0\n",
    "            self.reset()\n",
    "            s = self.state\n",
    "            a = self.choose_action()\n",
    "            while not is_terminal:\n",
    "                c += 1\n",
    "                is_terminal = self.take_action(a) # taking an action gives terminality status.\n",
    "           # explore from the epsilon-greedy policy \n",
    "                a_prime = self.choose_action() if not is_terminal else 'D'\n",
    "           # below we choose a prime from the TRUE policy! \n",
    "                a_greedy = self.choose_offpolicy_action() if not is_terminal else 'D'\n",
    "                self.q[s,self.action_dict[a]] += alpha*(self.reward + gamma*self.q[self.state,self.action_dict[a_greedy]] - self.q[s,self.action_dict[a]])\n",
    "                s = self.state\n",
    "                a = a_prime\n",
    "            delta = min(np.max(np.abs(self.q - old_q)),delta)\n",
    "            old_q = self.q\n",
    "        \n",
    "    def policyIteration(self, gamma, alpha, ntrials):\n",
    "        print(\"Running TD policy iteration...\")\n",
    "        policyStable = False\n",
    "        itr = 0\n",
    "        maxiters = 1000 # catch the while loop.\n",
    "        oldA = np.zeros((self.world.nstates,))\n",
    "        while (not policyStable and itr < maxiters):\n",
    "            itr += 1\n",
    "            self.evaluatePolicyQ(gamma, alpha, ntrials)   \n",
    "            policyStable = np.array_equal(oldA,np.argmax(self.q, axis=1)) # see if policy changes!\n",
    "            oldA = np.argmax(self.q, axis=1)\n",
    "        print(\"Converged after {} iterations.\".format(itr))\n",
    "    "
   ]
  },
  {
   "cell_type": "code",
   "execution_count": null,
   "metadata": {},
   "outputs": [],
   "source": [
    "from tut_basics import CliffWorld\n",
    "world = CliffWorld()\n",
    "# test Q Agent \n",
    "q_agent = TDQ_Agent(world)\n",
    "alpha = 0.05\n",
    "ntrials = 2000\n",
    "gamma = 0.9\n",
    "q_agent.policyIteration(gamma, alpha, ntrials)\n",
    "plotStateActionValue(q_agent.q,world)\n",
    "plotGreedyPolicyQ(q_agent.q,world)"
   ]
  },
  {
   "cell_type": "code",
   "execution_count": null,
   "metadata": {},
   "outputs": [],
   "source": [
    "# compare control with Q learner against control with SARSA\n",
    "world = CliffWorld()\n",
    "sarsa_agent = TDSarsa_Agent(world)\n",
    "alpha = 0.2\n",
    "ntrials = 2000\n",
    "gamma = 0.9\n",
    "sarsa_agent.policyIteration(gamma, alpha, ntrials)\n",
    "plotStateActionValue(sarsa_agent.q,world)\n",
    "plotGreedyPolicyQ(sarsa_agent.q,world)"
   ]
  },
  {
   "cell_type": "markdown",
   "metadata": {},
   "source": [
    "### 2.4 TD Lambda "
   ]
  },
  {
   "cell_type": "code",
   "execution_count": 4,
   "metadata": {},
   "outputs": [],
   "source": [
    "class TDSarsaLambda_Agent(TDSarsa_Agent):\n",
    "    def __init__(self, world, lamb):\n",
    "        super(TDSarsaLambda_Agent, self).__init__(world)\n",
    "        self.policy = self.epsilongreedyQPolicy\n",
    "        self.lamb = lamb\n",
    "\n",
    "    def evaluatePolicyQ(self, gamma, alpha, ntrials):\n",
    "        delta = 1.0\n",
    "        old_q = self.q\n",
    "        eligibility = np.zeros((self.world.nstates,5)) #  store elig traces\n",
    "        for i in range(ntrials):\n",
    "            is_terminal = False\n",
    "            c = 0\n",
    "            self.reset()\n",
    "            s = self.state\n",
    "            a = self.choose_action()\n",
    "            while not is_terminal:\n",
    "                c += 1\n",
    "                is_terminal = self.take_action(a) # this updates other stuff and returs terminality\n",
    "                a_prime = self.choose_action() if not is_terminal else 'D'\n",
    "                delta = self.reward + gamma*self.q[self.state,self.action_dict[a_prime]] - self.q[s,self.action_dict[a]]\n",
    "                eligibility[s,self.action_dict[a]] += 1.0\n",
    "                self.q[s,self.action_dict[a]] += alpha*(self.reward + gamma*self.q[self.state,self.action_dict[a_prime]] - self.q[s,self.action_dict[a]])\n",
    "                for s in range(self.world.nstates):\n",
    "                    for a in range(5):\n",
    "                        self.q[s,a] += alpha*delta*eligibility[s,a]\n",
    "                        eligibility[s,a] *= gamma*self.lamb\n",
    "                        s = self.state\n",
    "                        a = a_prime\n",
    "                        delta = min(np.max(np.abs(self.q - old_q)),delta)\n",
    "                        old_q = self.q"
   ]
  },
  {
   "cell_type": "code",
   "execution_count": 9,
   "metadata": {},
   "outputs": [
    {
     "ename": "KeyboardInterrupt",
     "evalue": "",
     "output_type": "error",
     "traceback": [
      "\u001b[0;31m---------------------------------------------------------------------------\u001b[0m",
      "\u001b[0;31mKeyboardInterrupt\u001b[0m                         Traceback (most recent call last)",
      "\u001b[0;32m<ipython-input-9-8b47ef714284>\u001b[0m in \u001b[0;36m<module>\u001b[0;34m\u001b[0m\n\u001b[1;32m      9\u001b[0m \u001b[0mntrials\u001b[0m \u001b[0;34m=\u001b[0m \u001b[0;36m1\u001b[0m\u001b[0;34m\u001b[0m\u001b[0;34m\u001b[0m\u001b[0m\n\u001b[1;32m     10\u001b[0m \u001b[0mgamma\u001b[0m \u001b[0;34m=\u001b[0m \u001b[0;36m0.9\u001b[0m\u001b[0;34m\u001b[0m\u001b[0;34m\u001b[0m\u001b[0m\n\u001b[0;32m---> 11\u001b[0;31m \u001b[0magent\u001b[0m\u001b[0;34m.\u001b[0m\u001b[0mevaluatePolicyQ\u001b[0m\u001b[0;34m(\u001b[0m\u001b[0mgamma\u001b[0m\u001b[0;34m,\u001b[0m \u001b[0malpha\u001b[0m\u001b[0;34m,\u001b[0m \u001b[0mntrials\u001b[0m\u001b[0;34m)\u001b[0m\u001b[0;34m\u001b[0m\u001b[0;34m\u001b[0m\u001b[0m\n\u001b[0m\u001b[1;32m     12\u001b[0m \u001b[0mplotStateActionValue\u001b[0m\u001b[0;34m(\u001b[0m\u001b[0magent\u001b[0m\u001b[0;34m.\u001b[0m\u001b[0mq\u001b[0m\u001b[0;34m,\u001b[0m\u001b[0mworld\u001b[0m\u001b[0;34m)\u001b[0m\u001b[0;34m\u001b[0m\u001b[0;34m\u001b[0m\u001b[0m\n\u001b[1;32m     13\u001b[0m \u001b[0;34m\u001b[0m\u001b[0m\n",
      "\u001b[0;32m<ipython-input-4-4bbb8c3eb6fe>\u001b[0m in \u001b[0;36mevaluatePolicyQ\u001b[0;34m(self, gamma, alpha, ntrials)\u001b[0m\n\u001b[1;32m     23\u001b[0m                 \u001b[0mself\u001b[0m\u001b[0;34m.\u001b[0m\u001b[0mq\u001b[0m\u001b[0;34m[\u001b[0m\u001b[0ms\u001b[0m\u001b[0;34m,\u001b[0m\u001b[0mself\u001b[0m\u001b[0;34m.\u001b[0m\u001b[0maction_dict\u001b[0m\u001b[0;34m[\u001b[0m\u001b[0ma\u001b[0m\u001b[0;34m]\u001b[0m\u001b[0;34m]\u001b[0m \u001b[0;34m+=\u001b[0m \u001b[0malpha\u001b[0m\u001b[0;34m*\u001b[0m\u001b[0;34m(\u001b[0m\u001b[0mself\u001b[0m\u001b[0;34m.\u001b[0m\u001b[0mreward\u001b[0m \u001b[0;34m+\u001b[0m \u001b[0mgamma\u001b[0m\u001b[0;34m*\u001b[0m\u001b[0mself\u001b[0m\u001b[0;34m.\u001b[0m\u001b[0mq\u001b[0m\u001b[0;34m[\u001b[0m\u001b[0mself\u001b[0m\u001b[0;34m.\u001b[0m\u001b[0mstate\u001b[0m\u001b[0;34m,\u001b[0m\u001b[0mself\u001b[0m\u001b[0;34m.\u001b[0m\u001b[0maction_dict\u001b[0m\u001b[0;34m[\u001b[0m\u001b[0ma_prime\u001b[0m\u001b[0;34m]\u001b[0m\u001b[0;34m]\u001b[0m \u001b[0;34m-\u001b[0m \u001b[0mself\u001b[0m\u001b[0;34m.\u001b[0m\u001b[0mq\u001b[0m\u001b[0;34m[\u001b[0m\u001b[0ms\u001b[0m\u001b[0;34m,\u001b[0m\u001b[0mself\u001b[0m\u001b[0;34m.\u001b[0m\u001b[0maction_dict\u001b[0m\u001b[0;34m[\u001b[0m\u001b[0ma\u001b[0m\u001b[0;34m]\u001b[0m\u001b[0;34m]\u001b[0m\u001b[0;34m)\u001b[0m\u001b[0;34m\u001b[0m\u001b[0;34m\u001b[0m\u001b[0m\n\u001b[1;32m     24\u001b[0m                 \u001b[0;32mfor\u001b[0m \u001b[0ms\u001b[0m \u001b[0;32min\u001b[0m \u001b[0mrange\u001b[0m\u001b[0;34m(\u001b[0m\u001b[0mself\u001b[0m\u001b[0;34m.\u001b[0m\u001b[0mworld\u001b[0m\u001b[0;34m.\u001b[0m\u001b[0mnstates\u001b[0m\u001b[0;34m)\u001b[0m\u001b[0;34m:\u001b[0m\u001b[0;34m\u001b[0m\u001b[0;34m\u001b[0m\u001b[0m\n\u001b[0;32m---> 25\u001b[0;31m                     \u001b[0;32mfor\u001b[0m \u001b[0ma\u001b[0m \u001b[0;32min\u001b[0m \u001b[0mrange\u001b[0m\u001b[0;34m(\u001b[0m\u001b[0;36m5\u001b[0m\u001b[0;34m)\u001b[0m\u001b[0;34m:\u001b[0m\u001b[0;34m\u001b[0m\u001b[0;34m\u001b[0m\u001b[0m\n\u001b[0m\u001b[1;32m     26\u001b[0m                         \u001b[0mself\u001b[0m\u001b[0;34m.\u001b[0m\u001b[0mq\u001b[0m\u001b[0;34m[\u001b[0m\u001b[0ms\u001b[0m\u001b[0;34m,\u001b[0m\u001b[0ma\u001b[0m\u001b[0;34m]\u001b[0m \u001b[0;34m+=\u001b[0m \u001b[0malpha\u001b[0m\u001b[0;34m*\u001b[0m\u001b[0mdelta\u001b[0m\u001b[0;34m*\u001b[0m\u001b[0meligibility\u001b[0m\u001b[0;34m[\u001b[0m\u001b[0ms\u001b[0m\u001b[0;34m,\u001b[0m\u001b[0ma\u001b[0m\u001b[0;34m]\u001b[0m\u001b[0;34m\u001b[0m\u001b[0;34m\u001b[0m\u001b[0m\n\u001b[1;32m     27\u001b[0m                         \u001b[0meligibility\u001b[0m\u001b[0;34m[\u001b[0m\u001b[0ms\u001b[0m\u001b[0;34m,\u001b[0m\u001b[0ma\u001b[0m\u001b[0;34m]\u001b[0m \u001b[0;34m*=\u001b[0m \u001b[0mgamma\u001b[0m\u001b[0;34m*\u001b[0m\u001b[0mself\u001b[0m\u001b[0;34m.\u001b[0m\u001b[0mlamb\u001b[0m\u001b[0;34m\u001b[0m\u001b[0;34m\u001b[0m\u001b[0m\n",
      "\u001b[0;31mKeyboardInterrupt\u001b[0m: "
     ]
    }
   ],
   "source": [
    "from tut_basics import GridWorldExample2\n",
    "\n",
    "world = GridWorldExample2()\n",
    "\n",
    "# 1. test policy evaluation for one trial (episode)\n",
    "lamb = 0.9\n",
    "agent = TDSarsaLambda_Agent(world, lamb)\n",
    "alpha = 0.05\n",
    "ntrials = 1\n",
    "gamma = 0.9\n",
    "agent.evaluatePolicyQ(gamma, alpha, ntrials)\n",
    "plotStateActionValue(agent.q,world)\n",
    "\n",
    "sarsa0_agent = TDSarsa_Agent(world)\n",
    "sarsa0_agent.evaluatePolicyQ(gamma, alpha, ntrials)\n",
    "plotStateActionValue(sarsa0_agent.q,world)"
   ]
  },
  {
   "cell_type": "code",
   "execution_count": null,
   "metadata": {},
   "outputs": [],
   "source": [
    "# 2. do policy iteration\n",
    "ntrials = 10\n",
    "agent.policyIteration(gamma, alpha, ntrials)\n",
    "plotStateActionValue(agent.q,world)\n",
    "plotGreedyPolicyQ(agent.q,world)\n",
    "\n",
    "sarsa0_agent.policyIteration(gamma, alpha, ntrials)\n",
    "plotStateActionValue(sarsa0_agent.q,world)\n",
    "plotGreedyPolicyQ(agent.q,world)"
   ]
  },
  {
   "cell_type": "code",
   "execution_count": null,
   "metadata": {},
   "outputs": [],
   "source": []
  },
  {
   "cell_type": "code",
   "execution_count": null,
   "metadata": {},
   "outputs": [],
   "source": []
  }
 ],
 "metadata": {
  "kernelspec": {
   "display_name": "Python 3",
   "language": "python",
   "name": "python3"
  },
  "language_info": {
   "codemirror_mode": {
    "name": "ipython",
    "version": 3
   },
   "file_extension": ".py",
   "mimetype": "text/x-python",
   "name": "python",
   "nbconvert_exporter": "python",
   "pygments_lexer": "ipython3",
   "version": "3.6.9"
  }
 },
 "nbformat": 4,
 "nbformat_minor": 2
}
